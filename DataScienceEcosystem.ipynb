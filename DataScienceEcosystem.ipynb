{
 "cells": [
  {
   "cell_type": "code",
   "execution_count": 1,
   "id": "a6a9243b-88e1-4d88-b9b2-b85a5c9ac890",
   "metadata": {},
   "outputs": [],
   "source": [
    "import pandas as pd\n",
    "import numpy as np\n",
    "import matplotlib.pyplot as plt"
   ]
  },
  {
   "cell_type": "markdown",
   "id": "57abacae-c3e9-45ca-a05f-721f2d957a8a",
   "metadata": {},
   "source": [
    "# Data Science Tools and Ecosystem "
   ]
  },
  {
   "cell_type": "markdown",
   "id": "f10d35ef-0dd8-45b9-80ae-3b111efff76b",
   "metadata": {},
   "source": [
    "In this notebook, Data Science Tools and Ecosystem are summarized"
   ]
  },
  {
   "cell_type": "markdown",
   "id": "36323dab-2009-40fe-b05f-bac6da0a28b5",
   "metadata": {},
   "source": [
    "Objectives:\n",
    "- List popular languages for Data \n",
    "- Arithmetic expression examples\n",
    "- Create a markdown cell with a table"
   ]
  },
  {
   "cell_type": "markdown",
   "id": "97d80834-4b90-4f52-bcdd-4b48c0cfb932",
   "metadata": {},
   "source": [
    "Some of the popular languages that Data Scientists use are:\n",
    "\n",
    "1. Python\n",
    "2. R\n",
    "3. SQL\n",
    "4. Java\n",
    "6. Julia\n",
    "7. Scala\n",
    "8. C/C++\n",
    "9. JavaScript\n",
    "10. MATLAB\n"
   ]
  },
  {
   "cell_type": "markdown",
   "id": "bc65d704-dfa5-4128-8b14-e8ecd2953dc6",
   "metadata": {},
   "source": [
    "Some of the commonly used libraries used by Data Scientists include:\n",
    "\n",
    "1. TensorFlow\n",
    "2. NumPy\n",
    "3. SciPy \n",
    "4. Pandas\n",
    "5. Matplotlib \n"
   ]
  },
  {
   "cell_type": "markdown",
   "id": "f09d3586-05d6-4a58-9b3f-be2ce8b4e4df",
   "metadata": {},
   "source": [
    "|Data Science Tools|\n",
    "--------------------\n",
    "|Rstudio|\n",
    "|Jupyter Notebook|\n",
    "|visual Studio|"
   ]
  },
  {
   "cell_type": "markdown",
   "id": "725a21bc-af0f-4a86-9f87-659ed2b12851",
   "metadata": {},
   "source": [
    "### Below are a few examples of evaluating arithmetic expressions in Python"
   ]
  },
  {
   "cell_type": "code",
   "execution_count": 6,
   "id": "099359cc-3be4-4498-b062-93a25caf4c91",
   "metadata": {},
   "outputs": [
    {
     "data": {
      "text/plain": [
       "17"
      ]
     },
     "execution_count": 6,
     "metadata": {},
     "output_type": "execute_result"
    }
   ],
   "source": [
    "# This a simple arithmetic expression to mutiply then add integers\n",
    "(3*4)+5"
   ]
  },
  {
   "cell_type": "code",
   "execution_count": 7,
   "id": "8e604f23-77a0-45d0-b4b9-ec2ce270f714",
   "metadata": {},
   "outputs": [
    {
     "data": {
      "text/plain": [
       "3.3333333333333335"
      ]
     },
     "execution_count": 7,
     "metadata": {},
     "output_type": "execute_result"
    }
   ],
   "source": [
    "# This will convert 200 minutes to hours by diving by 60\n",
    "200 / 60"
   ]
  },
  {
   "cell_type": "markdown",
   "id": "b462dd99-7446-4100-aba8-8a40b36a5d1f",
   "metadata": {},
   "source": [
    "### Author\n",
    "Mohamed"
   ]
  },
  {
   "cell_type": "code",
   "execution_count": null,
   "id": "658a9726-e9b4-4321-870a-20de4ee04e18",
   "metadata": {},
   "outputs": [],
   "source": []
  }
 ],
 "metadata": {
  "kernelspec": {
   "display_name": "Python 3 (ipykernel)",
   "language": "python",
   "name": "python3"
  },
  "language_info": {
   "codemirror_mode": {
    "name": "ipython",
    "version": 3
   },
   "file_extension": ".py",
   "mimetype": "text/x-python",
   "name": "python",
   "nbconvert_exporter": "python",
   "pygments_lexer": "ipython3",
   "version": "3.10.9"
  }
 },
 "nbformat": 4,
 "nbformat_minor": 5
}
